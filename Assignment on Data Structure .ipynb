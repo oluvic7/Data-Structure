{
 "cells": [
  {
   "cell_type": "markdown",
   "metadata": {},
   "source": [
    "Append "
   ]
  },
  {
   "cell_type": "code",
   "execution_count": 3,
   "metadata": {},
   "outputs": [
    {
     "name": "stdout",
     "output_type": "stream",
     "text": [
      "['Sugar', 'Sweet', 'Gum', ['Biscuit', 'Coke', 'Volvo']]\n"
     ]
    }
   ],
   "source": [
    "a = [\"Sugar\", \"Sweet\", \"Gum\"]\n",
    "b = [\"Biscuit\", \"Coke\", \"Volvo\"]\n",
    "a.append (b)\n",
    "print (a)"
   ]
  },
  {
   "cell_type": "code",
   "execution_count": 5,
   "metadata": {},
   "outputs": [
    {
     "name": "stdout",
     "output_type": "stream",
     "text": [
      "['Beans', 'Rice', 'Spagetti', 'Plantain']\n"
     ]
    }
   ],
   "source": [
    "food = [\"Beans\", \"Rice\", \"Spagetti\"]\n",
    "food.append (\"Plantain\")\n",
    "print (food) "
   ]
  },
  {
   "cell_type": "code",
   "execution_count": 10,
   "metadata": {
    "scrolled": true
   },
   "outputs": [
    {
     "name": "stdout",
     "output_type": "stream",
     "text": [
      "['Mercedes Benz', 'Audi', 'BMW', 'Suzuki']\n"
     ]
    }
   ],
   "source": [
    "car = [\"Mercedes Benz\", \"Audi\", \"BMW\"]\n",
    "car.append (\"Suzuki\")\n",
    "print(car)"
   ]
  },
  {
   "cell_type": "code",
   "execution_count": 12,
   "metadata": {},
   "outputs": [
    {
     "name": "stdout",
     "output_type": "stream",
     "text": [
      "['blue', 'green', 'red', ['white', 'orange', 'pink']]\n"
     ]
    }
   ],
   "source": [
    "color = [\"blue\", \"green\", \"red\"]\n",
    "add = [\"white\", \"orange\", \"pink\"]\n",
    "color.append (add)\n",
    "print (color)"
   ]
  },
  {
   "cell_type": "code",
   "execution_count": 19,
   "metadata": {},
   "outputs": [
    {
     "name": "stdout",
     "output_type": "stream",
     "text": [
      "['sola', 'tope', 'funke', ['segun', 'olu', 'ola']]\n"
     ]
    }
   ],
   "source": [
    "names = [\"sola\", \"tope\", \"funke\"]\n",
    "plus = [\"segun\", \"olu\", \"ola\"]\n",
    "names.append (plus)\n",
    "print (names)"
   ]
  },
  {
   "cell_type": "code",
   "execution_count": 20,
   "metadata": {
    "scrolled": true
   },
   "outputs": [
    {
     "name": "stdout",
     "output_type": "stream",
     "text": [
      "['food', 'bags', 'shoes', 'clothes']\n"
     ]
    }
   ],
   "source": [
    "like = [\"food\", \"bags\", \"shoes\"]\n",
    "like.append (\"clothes\")\n",
    "print (like)"
   ]
  },
  {
   "cell_type": "code",
   "execution_count": 22,
   "metadata": {},
   "outputs": [
    {
     "name": "stdout",
     "output_type": "stream",
     "text": [
      "['unilag', 'OAU', 'OOU', 'tasued']\n"
     ]
    }
   ],
   "source": [
    "campus = [\"unilag\", \"OAU\", \"OOU\"]\n",
    "campus.append (\"tasued\")\n",
    "print (campus)"
   ]
  },
  {
   "cell_type": "code",
   "execution_count": 23,
   "metadata": {},
   "outputs": [
    {
     "name": "stdout",
     "output_type": "stream",
     "text": [
      "[3, 5, 6, 8, 6, 8, 8]\n"
     ]
    }
   ],
   "source": [
    "numbers = [3,5,6,8,6,8]\n",
    "numbers.append (8)\n",
    "print (numbers)"
   ]
  },
  {
   "cell_type": "code",
   "execution_count": 25,
   "metadata": {},
   "outputs": [
    {
     "name": "stdout",
     "output_type": "stream",
     "text": [
      "['t', 'y', 'u', ['q', 'i', 'p']]\n"
     ]
    }
   ],
   "source": [
    "letters = [\"t\", \"y\", \"u\"]\n",
    "plus = [\"q\", \"i\", \"p\"]\n",
    "letters.append (plus)\n",
    "print (letters)"
   ]
  },
  {
   "cell_type": "code",
   "execution_count": 26,
   "metadata": {},
   "outputs": [
    {
     "name": "stdout",
     "output_type": "stream",
     "text": [
      "['do', 're', 'mi', 'fa', 'so', ['la', 'ti', 'do']]\n"
     ]
    }
   ],
   "source": [
    "key = [\"do\", \"re\", \"mi\", \"fa\", \"so\"]\n",
    "next = [\"la\", \"ti\", \"do\",]\n",
    "key.append (next)\n",
    "print (key)"
   ]
  },
  {
   "cell_type": "markdown",
   "metadata": {},
   "source": [
    "Insert "
   ]
  },
  {
   "cell_type": "code",
   "execution_count": 30,
   "metadata": {},
   "outputs": [
    {
     "name": "stdout",
     "output_type": "stream",
     "text": [
      "['Beans', 'Plantain', 'Rice', 'Spagetti']\n"
     ]
    }
   ],
   "source": [
    "food = [\"Beans\", \"Rice\", \"Spagetti\"]\n",
    "food.insert (1, \"Plantain\")\n",
    "print (food)"
   ]
  },
  {
   "cell_type": "code",
   "execution_count": 33,
   "metadata": {},
   "outputs": [
    {
     "name": "stdout",
     "output_type": "stream",
     "text": [
      "['Sugar', 2, 'Sweet', 'Gum']\n"
     ]
    }
   ],
   "source": [
    "a = [\"Sugar\", \"Sweet\", \"Gum\"]\n",
    "b = [\"Biscuit\", \"Coke\"]\n",
    "a.insert (1,2)\n",
    "print (a)"
   ]
  },
  {
   "cell_type": "code",
   "execution_count": 34,
   "metadata": {},
   "outputs": [
    {
     "name": "stdout",
     "output_type": "stream",
     "text": [
      "['Suzuki', 'Mercedes Benz', 'Audi', 'BMW']\n"
     ]
    }
   ],
   "source": [
    "car = [\"Mercedes Benz\", \"Audi\", \"BMW\"]\n",
    "car.insert (0, \"Suzuki\")\n",
    "print(car)"
   ]
  },
  {
   "cell_type": "code",
   "execution_count": 38,
   "metadata": {},
   "outputs": [
    {
     "name": "stdout",
     "output_type": "stream",
     "text": [
      "[1, 'blue', 'green', 'red']\n"
     ]
    }
   ],
   "source": [
    "color = [\"blue\", \"green\", \"red\"]\n",
    "color.insert (0,1)\n",
    "print (color)"
   ]
  },
  {
   "cell_type": "code",
   "execution_count": 39,
   "metadata": {},
   "outputs": [
    {
     "name": "stdout",
     "output_type": "stream",
     "text": [
      "['oluwatise', 'sola', 'tope', 'funke']\n"
     ]
    }
   ],
   "source": [
    "names = [\"sola\", \"tope\", \"funke\"]\n",
    "plus = [\"segun\", \"olu\", \"ola\"]\n",
    "names.insert (0, \"oluwatise\")\n",
    "print (names)"
   ]
  },
  {
   "cell_type": "code",
   "execution_count": 44,
   "metadata": {
    "scrolled": true
   },
   "outputs": [
    {
     "name": "stdout",
     "output_type": "stream",
     "text": [
      "[1, 4, 6, 37, 5, 3, 9]\n"
     ]
    }
   ],
   "source": [
    "list1 = [1,4,6,5,3,9]\n",
    "list1.insert (3, 37)\n",
    "print (list1)"
   ]
  },
  {
   "cell_type": "code",
   "execution_count": 46,
   "metadata": {},
   "outputs": [
    {
     "name": "stdout",
     "output_type": "stream",
     "text": [
      "['The', 'sun', 'rise', 'in', 'the', 'east']\n"
     ]
    }
   ],
   "source": [
    "list = [\"sun\", \"rise\", \"in\", \"the\", \"east\"]\n",
    "list.insert (0, \"The\")\n",
    "print (list) "
   ]
  },
  {
   "cell_type": "code",
   "execution_count": 48,
   "metadata": {},
   "outputs": [
    {
     "name": "stdout",
     "output_type": "stream",
     "text": [
      "['unilag', 'OAU', 'OOU', 'tasued']\n"
     ]
    }
   ],
   "source": [
    "campus = [\"unilag\", \"OAU\", \"OOU\"]\n",
    "campus.insert (3, \"tasued\")\n",
    "print (campus)"
   ]
  },
  {
   "cell_type": "code",
   "execution_count": 49,
   "metadata": {},
   "outputs": [
    {
     "name": "stdout",
     "output_type": "stream",
     "text": [
      "['t', 'y', 'plus', 'u']\n"
     ]
    }
   ],
   "source": [
    "letters = [\"t\", \"y\", \"u\"]\n",
    "letters.insert (2, \"plus\")\n",
    "print (letters)"
   ]
  },
  {
   "cell_type": "code",
   "execution_count": 50,
   "metadata": {},
   "outputs": [
    {
     "name": "stdout",
     "output_type": "stream",
     "text": [
      "['do', 're', 'mi', 'fa', 'so', 'la']\n"
     ]
    }
   ],
   "source": [
    "key = [\"do\", \"re\", \"mi\", \"fa\", \"so\"]\n",
    "key.insert (5, \"la\")\n",
    "print (key)"
   ]
  },
  {
   "cell_type": "markdown",
   "metadata": {},
   "source": [
    "modify "
   ]
  },
  {
   "cell_type": "code",
   "execution_count": 57,
   "metadata": {},
   "outputs": [
    {
     "name": "stdout",
     "output_type": "stream",
     "text": [
      "Hello world\n"
     ]
    }
   ],
   "source": [
    "my_string = \"Hello\"\n",
    "my_string = my_string + \" \" \"world\"\n",
    "print (my_string)"
   ]
  },
  {
   "cell_type": "code",
   "execution_count": 53,
   "metadata": {},
   "outputs": [
    {
     "name": "stdout",
     "output_type": "stream",
     "text": [
      "[1, 2, 10, 4, 5]\n"
     ]
    }
   ],
   "source": [
    "my_list = [1,2,3,4,5]\n",
    "my_list[2] = 10\n",
    "print (my_list) "
   ]
  },
  {
   "cell_type": "code",
   "execution_count": 55,
   "metadata": {},
   "outputs": [
    {
     "name": "stdout",
     "output_type": "stream",
     "text": [
      "World Cup\n"
     ]
    }
   ],
   "source": [
    "my_string = \"World\"\n",
    "my_string = my_string + \" \" \"Cup\"\n",
    "print (my_string)"
   ]
  },
  {
   "cell_type": "code",
   "execution_count": 56,
   "metadata": {},
   "outputs": [
    {
     "name": "stdout",
     "output_type": "stream",
     "text": [
      "[1, 2, 3, 4, 20]\n"
     ]
    }
   ],
   "source": [
    "my_list = [1,2,3,4,5]\n",
    "my_list[4] = 20\n",
    "print (my_list) "
   ]
  },
  {
   "cell_type": "code",
   "execution_count": 58,
   "metadata": {
    "scrolled": true
   },
   "outputs": [
    {
     "name": "stdout",
     "output_type": "stream",
     "text": [
      "Missing my wife\n"
     ]
    }
   ],
   "source": [
    "my_string = \"Missing\" + \" \" \"my\"\n",
    "my_string = my_string + \" \" \"wife\"\n",
    "print (my_string)"
   ]
  },
  {
   "cell_type": "code",
   "execution_count": 59,
   "metadata": {},
   "outputs": [
    {
     "name": "stdout",
     "output_type": "stream",
     "text": [
      "[1, 24, 3, 4, 5]\n"
     ]
    }
   ],
   "source": [
    "my_list = [1,2,3,4,5]\n",
    "my_list[1] = 24\n",
    "print (my_list) "
   ]
  },
  {
   "cell_type": "code",
   "execution_count": 60,
   "metadata": {},
   "outputs": [
    {
     "name": "stdout",
     "output_type": "stream",
     "text": [
      "Love is real\n"
     ]
    }
   ],
   "source": [
    "my_string = \"Love\" + \" \" \"is\"\n",
    "my_string = my_string + \" \" \"real\"\n",
    "print (my_string)"
   ]
  },
  {
   "cell_type": "markdown",
   "metadata": {},
   "source": [
    "POP "
   ]
  },
  {
   "cell_type": "code",
   "execution_count": 61,
   "metadata": {},
   "outputs": [
    {
     "name": "stdout",
     "output_type": "stream",
     "text": [
      "[1, 2, 4, 5]\n"
     ]
    }
   ],
   "source": [
    "my_list = [1,2,3,4,5]\n",
    "popped_element = my_list.pop(2)\n",
    "print (my_list)"
   ]
  },
  {
   "cell_type": "code",
   "execution_count": 100,
   "metadata": {},
   "outputs": [
    {
     "data": {
      "text/plain": [
       "[1, 2, 3, 4, 5]"
      ]
     },
     "execution_count": 100,
     "metadata": {},
     "output_type": "execute_result"
    }
   ],
   "source": [
    "my_list = [1,2,3,4,5,6]\n",
    "last_element = my_list.pop()\n",
    "my_list"
   ]
  },
  {
   "cell_type": "code",
   "execution_count": 76,
   "metadata": {},
   "outputs": [],
   "source": [
    "food_list = [\"Beans\", \"Rice\", \"Spagetti\"]\n",
    "pop_element = food_list.pop(1)\n",
    "print = (\"food_list\")"
   ]
  },
  {
   "cell_type": "code",
   "execution_count": null,
   "metadata": {},
   "outputs": [],
   "source": [
    "my_list = [1,2,3,4,5,6]\n",
    "last_element = my_list.pop()\n",
    "print (my_list)"
   ]
  },
  {
   "cell_type": "code",
   "execution_count": null,
   "metadata": {},
   "outputs": [],
   "source": [
    "my_list = [1,2,3,4,5,6,7,8]\n",
    "popped_element = my_list.pop(4)\n",
    "print (my_list)"
   ]
  },
  {
   "cell_type": "markdown",
   "metadata": {},
   "source": [
    "Remove"
   ]
  },
  {
   "cell_type": "code",
   "execution_count": 84,
   "metadata": {},
   "outputs": [],
   "source": [
    "food = [\"Beans\", \"Rice\", \"Spagetti\"]"
   ]
  },
  {
   "cell_type": "code",
   "execution_count": 85,
   "metadata": {},
   "outputs": [],
   "source": [
    "food.remove (\"Rice\")"
   ]
  },
  {
   "cell_type": "code",
   "execution_count": 86,
   "metadata": {},
   "outputs": [
    {
     "data": {
      "text/plain": [
       "['Beans', 'Spagetti']"
      ]
     },
     "execution_count": 86,
     "metadata": {},
     "output_type": "execute_result"
    }
   ],
   "source": [
    "food"
   ]
  },
  {
   "cell_type": "code",
   "execution_count": 89,
   "metadata": {},
   "outputs": [],
   "source": [
    "a = [\"Sugar\", \"Sweet\", \"Gum\"]\n",
    "a.remove (\"Sweet\")"
   ]
  },
  {
   "cell_type": "code",
   "execution_count": 90,
   "metadata": {},
   "outputs": [
    {
     "data": {
      "text/plain": [
       "['Sugar', 'Gum']"
      ]
     },
     "execution_count": 90,
     "metadata": {},
     "output_type": "execute_result"
    }
   ],
   "source": [
    "a"
   ]
  },
  {
   "cell_type": "code",
   "execution_count": 99,
   "metadata": {},
   "outputs": [
    {
     "data": {
      "text/plain": [
       "[1, 2, 4, 5, 6, 7]"
      ]
     },
     "execution_count": 99,
     "metadata": {},
     "output_type": "execute_result"
    }
   ],
   "source": [
    "my_list = [1,2,3,4,5,6,7]\n",
    "my_list.remove(3)\n",
    "my_list "
   ]
  },
  {
   "cell_type": "code",
   "execution_count": 101,
   "metadata": {},
   "outputs": [
    {
     "data": {
      "text/plain": [
       "['blue', 'green']"
      ]
     },
     "execution_count": 101,
     "metadata": {},
     "output_type": "execute_result"
    }
   ],
   "source": [
    "color = [\"blue\", \"green\", \"red\"]\n",
    "color.remove (\"red\")\n",
    "color"
   ]
  },
  {
   "cell_type": "code",
   "execution_count": 103,
   "metadata": {},
   "outputs": [
    {
     "data": {
      "text/plain": [
       "['unilag', 'OAU']"
      ]
     },
     "execution_count": 103,
     "metadata": {},
     "output_type": "execute_result"
    }
   ],
   "source": [
    "campus = [\"unilag\", \"OAU\", \"OOU\"]\n",
    "campus.remove(\"OOU\")\n",
    "campus"
   ]
  },
  {
   "cell_type": "code",
   "execution_count": 104,
   "metadata": {},
   "outputs": [
    {
     "data": {
      "text/plain": [
       "['do', 're', 'mi', 'fa']"
      ]
     },
     "execution_count": 104,
     "metadata": {},
     "output_type": "execute_result"
    }
   ],
   "source": [
    "key = [\"do\", \"re\", \"mi\", \"fa\", \"so\"]\n",
    "key.remove (\"so\")\n",
    "key"
   ]
  },
  {
   "cell_type": "code",
   "execution_count": 105,
   "metadata": {},
   "outputs": [
    {
     "data": {
      "text/plain": [
       "['Mercedes Benz', 'Audi']"
      ]
     },
     "execution_count": 105,
     "metadata": {},
     "output_type": "execute_result"
    }
   ],
   "source": [
    "car = [\"Mercedes Benz\", \"Audi\", \"BMW\"]\n",
    "car.remove(\"BMW\")\n",
    "car"
   ]
  },
  {
   "cell_type": "code",
   "execution_count": 106,
   "metadata": {},
   "outputs": [
    {
     "data": {
      "text/plain": [
       "[1, 2, 4, 5]"
      ]
     },
     "execution_count": 106,
     "metadata": {},
     "output_type": "execute_result"
    }
   ],
   "source": [
    "my_list = [1,2,3,4,5]\n",
    "my_list.remove (3)\n",
    "my_list"
   ]
  },
  {
   "cell_type": "code",
   "execution_count": 107,
   "metadata": {},
   "outputs": [
    {
     "data": {
      "text/plain": [
       "['oluwatojumi', 'zion', 'oluwafolahanmi']"
      ]
     },
     "execution_count": 107,
     "metadata": {},
     "output_type": "execute_result"
    }
   ],
   "source": [
    "names = [\"oluwatojumi\", \"zion\", \"oluwafolahanmi\", \"winner\"]\n",
    "names.remove (\"winner\")\n",
    "names"
   ]
  },
  {
   "cell_type": "markdown",
   "metadata": {},
   "source": [
    "sort "
   ]
  },
  {
   "cell_type": "code",
   "execution_count": 108,
   "metadata": {},
   "outputs": [
    {
     "data": {
      "text/plain": [
       "[1, 4, 6, 9, 9, 12, 13, 21, 54, 67]"
      ]
     },
     "execution_count": 108,
     "metadata": {},
     "output_type": "execute_result"
    }
   ],
   "source": [
    "my_list = [6,9,13,4,67,21,54,12,1,9]\n",
    "my_list.sort ()\n",
    "my_list "
   ]
  },
  {
   "cell_type": "code",
   "execution_count": 109,
   "metadata": {},
   "outputs": [
    {
     "data": {
      "text/plain": [
       "[1, 3, 4, 5, 6, 9]"
      ]
     },
     "execution_count": 109,
     "metadata": {},
     "output_type": "execute_result"
    }
   ],
   "source": [
    "list1 = [1,4,6,5,3,9]\n",
    "list1.sort ()\n",
    "list1"
   ]
  },
  {
   "cell_type": "code",
   "execution_count": 111,
   "metadata": {},
   "outputs": [
    {
     "data": {
      "text/plain": [
       "[1, 4, 9, 12, 21, 54, 67]"
      ]
     },
     "execution_count": 111,
     "metadata": {},
     "output_type": "execute_result"
    }
   ],
   "source": [
    "my_numbers = [4,67,21,54,12,1,9]\n",
    "my_numbers.sort ()\n",
    "my_numbers"
   ]
  },
  {
   "cell_type": "code",
   "execution_count": 113,
   "metadata": {},
   "outputs": [
    {
     "data": {
      "text/plain": [
       "[9, 11, 12, 18, 21, 24, 34]"
      ]
     },
     "execution_count": 113,
     "metadata": {},
     "output_type": "execute_result"
    }
   ],
   "source": [
    "ages_students = [34,12,24,21,9,11,18]\n",
    "ages_students.sort ()\n",
    "ages_students "
   ]
  },
  {
   "cell_type": "code",
   "execution_count": 114,
   "metadata": {},
   "outputs": [
    {
     "data": {
      "text/plain": [
       "[3, 5, 6, 6, 8, 8]"
      ]
     },
     "execution_count": 114,
     "metadata": {},
     "output_type": "execute_result"
    }
   ],
   "source": [
    "numbers = [3,5,6,8,6,8]\n",
    "numbers.sort ()\n",
    "numbers"
   ]
  },
  {
   "cell_type": "code",
   "execution_count": 115,
   "metadata": {},
   "outputs": [
    {
     "data": {
      "text/plain": [
       "['OAU', 'OOU', 'unilag']"
      ]
     },
     "execution_count": 115,
     "metadata": {},
     "output_type": "execute_result"
    }
   ],
   "source": [
    "campus = [\"unilag\", \"OAU\", \"OOU\"]\n",
    "campus.sort()\n",
    "campus"
   ]
  },
  {
   "cell_type": "code",
   "execution_count": 116,
   "metadata": {},
   "outputs": [
    {
     "data": {
      "text/plain": [
       "['oluwafolahanmi', 'oluwatojumi', 'winner', 'zion']"
      ]
     },
     "execution_count": 116,
     "metadata": {},
     "output_type": "execute_result"
    }
   ],
   "source": [
    "names = [\"oluwatojumi\", \"zion\", \"oluwafolahanmi\", \"winner\"]\n",
    "names.sort ()\n",
    "names"
   ]
  },
  {
   "cell_type": "code",
   "execution_count": 117,
   "metadata": {},
   "outputs": [
    {
     "data": {
      "text/plain": [
       "['east', 'in', 'rise', 'sun', 'the']"
      ]
     },
     "execution_count": 117,
     "metadata": {},
     "output_type": "execute_result"
    }
   ],
   "source": [
    "list = [\"sun\", \"rise\", \"in\", \"the\", \"east\"]\n",
    "list.sort ()\n",
    "list"
   ]
  },
  {
   "cell_type": "code",
   "execution_count": 118,
   "metadata": {},
   "outputs": [
    {
     "data": {
      "text/plain": [
       "['do', 'fa', 'mi', 're', 'so']"
      ]
     },
     "execution_count": 118,
     "metadata": {},
     "output_type": "execute_result"
    }
   ],
   "source": [
    "key = [\"do\", \"re\", \"mi\", \"fa\", \"so\"]\n",
    "key.sort ()\n",
    "key"
   ]
  },
  {
   "cell_type": "code",
   "execution_count": 119,
   "metadata": {},
   "outputs": [
    {
     "data": {
      "text/plain": [
       "['Gum', 'Sugar', 'Sweet']"
      ]
     },
     "execution_count": 119,
     "metadata": {},
     "output_type": "execute_result"
    }
   ],
   "source": [
    "a = [\"Sugar\", \"Sweet\", \"Gum\"]\n",
    "a.sort ()\n",
    "a"
   ]
  },
  {
   "cell_type": "markdown",
   "metadata": {},
   "source": [
    "Reverse"
   ]
  },
  {
   "cell_type": "code",
   "execution_count": 120,
   "metadata": {},
   "outputs": [
    {
     "data": {
      "text/plain": [
       "[9, 1, 12, 54, 21, 67, 4]"
      ]
     },
     "execution_count": 120,
     "metadata": {},
     "output_type": "execute_result"
    }
   ],
   "source": [
    "my_numbers = [4,67,21,54,12,1,9]\n",
    "my_numbers.reverse ()\n",
    "my_numbers"
   ]
  },
  {
   "cell_type": "code",
   "execution_count": 121,
   "metadata": {},
   "outputs": [
    {
     "data": {
      "text/plain": [
       "['Happiness', 'Peace', 'Joy', 'Love']"
      ]
     },
     "execution_count": 121,
     "metadata": {},
     "output_type": "execute_result"
    }
   ],
   "source": [
    "word_list = [\"Love\", \"Joy\", \"Peace\", \"Happiness\"]\n",
    "word_list.reverse ()\n",
    "word_list "
   ]
  },
  {
   "cell_type": "code",
   "execution_count": 122,
   "metadata": {},
   "outputs": [
    {
     "data": {
      "text/plain": [
       "['so', 'fa', 'mi', 're', 'do']"
      ]
     },
     "execution_count": 122,
     "metadata": {},
     "output_type": "execute_result"
    }
   ],
   "source": [
    "key = [\"do\", \"re\", \"mi\", \"fa\", \"so\"]\n",
    "key.reverse()\n",
    "key"
   ]
  },
  {
   "cell_type": "code",
   "execution_count": 123,
   "metadata": {},
   "outputs": [
    {
     "data": {
      "text/plain": [
       "['winner', 'oluwafolahanmi', 'zion', 'oluwatojumi']"
      ]
     },
     "execution_count": 123,
     "metadata": {},
     "output_type": "execute_result"
    }
   ],
   "source": [
    "names = [\"oluwatojumi\", \"zion\", \"oluwafolahanmi\", \"winner\"]\n",
    "names.reverse ()\n",
    "names"
   ]
  },
  {
   "cell_type": "code",
   "execution_count": 135,
   "metadata": {},
   "outputs": [
    {
     "data": {
      "text/plain": [
       "['Happiness', 'Peace', 'Joy', 'Love']"
      ]
     },
     "execution_count": 135,
     "metadata": {},
     "output_type": "execute_result"
    }
   ],
   "source": [
    "word_list = [\"Love\", \"Joy\", \"Peace\", \"Happiness\"]\n",
    "word_list.reverse ()\n",
    "word_list "
   ]
  },
  {
   "cell_type": "code",
   "execution_count": 136,
   "metadata": {},
   "outputs": [
    {
     "data": {
      "text/plain": [
       "[9, 1, 12, 54, 21]"
      ]
     },
     "execution_count": 136,
     "metadata": {},
     "output_type": "execute_result"
    }
   ],
   "source": [
    "my_numbers = [21,54,12,1,9]\n",
    "my_numbers.reverse ()\n",
    "my_numbers"
   ]
  },
  {
   "cell_type": "code",
   "execution_count": null,
   "metadata": {},
   "outputs": [],
   "source": []
  }
 ],
 "metadata": {
  "kernelspec": {
   "display_name": "Python 3",
   "language": "python",
   "name": "python3"
  },
  "language_info": {
   "codemirror_mode": {
    "name": "ipython",
    "version": 3
   },
   "file_extension": ".py",
   "mimetype": "text/x-python",
   "name": "python",
   "nbconvert_exporter": "python",
   "pygments_lexer": "ipython3",
   "version": "3.8.3"
  }
 },
 "nbformat": 4,
 "nbformat_minor": 4
}
